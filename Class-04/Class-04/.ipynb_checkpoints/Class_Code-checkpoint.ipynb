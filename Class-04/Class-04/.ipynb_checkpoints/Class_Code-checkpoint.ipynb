{
 "cells": [
  {
   "cell_type": "code",
   "execution_count": 1,
   "id": "9e512efb",
   "metadata": {},
   "outputs": [
    {
     "ename": "SyntaxError",
     "evalue": "invalid syntax (Temp/ipykernel_4524/699329277.py, line 14)",
     "output_type": "error",
     "traceback": [
      "\u001b[1;36m  File \u001b[1;32m\"C:\\Users\\MONORO~1\\AppData\\Local\\Temp/ipykernel_4524/699329277.py\"\u001b[1;36m, line \u001b[1;32m14\u001b[0m\n\u001b[1;33m    def get\u001b[0m\n\u001b[1;37m           ^\u001b[0m\n\u001b[1;31mSyntaxError\u001b[0m\u001b[1;31m:\u001b[0m invalid syntax\n"
     ]
    }
   ],
   "source": [
    "class Student():\n",
    "    #propertics=>1.attribute/variable(global,local)/instance ,2.function=>(builting,custom)\n",
    "    \n",
    "    name = \"\"\n",
    "    dept = \"\"\n",
    "    #constrator\n",
    "    def __init__(self,name,dept):\n",
    "        self.name = name\n",
    "        self.dept = dept\n",
    "    \n",
    "    def __str__(self):\n",
    "        return self.name+\" \"+self.dept\n",
    "    \n",
    "    def get\n",
    "    "
   ]
  },
  {
   "cell_type": "code",
   "execution_count": 2,
   "id": "7c890d33",
   "metadata": {},
   "outputs": [
    {
     "ename": "NameError",
     "evalue": "name 'Student' is not defined",
     "output_type": "error",
     "traceback": [
      "\u001b[1;31m---------------------------------------------------------------------------\u001b[0m",
      "\u001b[1;31mNameError\u001b[0m                                 Traceback (most recent call last)",
      "\u001b[1;32mC:\\Users\\MONORO~1\\AppData\\Local\\Temp/ipykernel_4524/1997034427.py\u001b[0m in \u001b[0;36m<module>\u001b[1;34m\u001b[0m\n\u001b[0;32m      1\u001b[0m \u001b[1;31m#create an objec\u001b[0m\u001b[1;33m\u001b[0m\u001b[1;33m\u001b[0m\u001b[0m\n\u001b[1;32m----> 2\u001b[1;33m \u001b[0mstudent\u001b[0m \u001b[1;33m=\u001b[0m \u001b[0mStudent\u001b[0m\u001b[1;33m(\u001b[0m\u001b[1;34m\"Monoronjon\"\u001b[0m\u001b[1;33m,\u001b[0m\u001b[1;34m\"CSE\"\u001b[0m\u001b[1;33m)\u001b[0m\u001b[1;33m\u001b[0m\u001b[1;33m\u001b[0m\u001b[0m\n\u001b[0m\u001b[0;32m      3\u001b[0m \u001b[0mprint\u001b[0m\u001b[1;33m(\u001b[0m\u001b[0mstudent\u001b[0m\u001b[1;33m)\u001b[0m\u001b[1;33m\u001b[0m\u001b[1;33m\u001b[0m\u001b[0m\n",
      "\u001b[1;31mNameError\u001b[0m: name 'Student' is not defined"
     ]
    }
   ],
   "source": [
    "#create an objec\n",
    "student = Student(\"Monoronjon\",\"CSE\")\n",
    "print(student)"
   ]
  },
  {
   "cell_type": "code",
   "execution_count": null,
   "id": "ea6a0bff",
   "metadata": {},
   "outputs": [],
   "source": [
    "student.name,student.dept"
   ]
  },
  {
   "cell_type": "markdown",
   "id": "5208442d",
   "metadata": {},
   "source": [
    "# Opp Principles"
   ]
  },
  {
   "cell_type": "code",
   "execution_count": 3,
   "id": "7a22f078",
   "metadata": {},
   "outputs": [],
   "source": [
    "#Abstractmethod\n",
    "from abc import ABC,abstractmethod"
   ]
  },
  {
   "cell_type": "code",
   "execution_count": 29,
   "id": "1c0f3d25",
   "metadata": {},
   "outputs": [],
   "source": [
    "#Abstractmethod\n",
    "class Student(ABC):\n",
    "    \n",
    "    \n",
    "        \n",
    "    @abstractmethod\n",
    "    def getstuname(self):\n",
    "        pass\n",
    "    @abstractmethod\n",
    "    def setstuname(self,name):\n",
    "        pass\n",
    "    @abstractmethod\n",
    "    def getstudept(self):\n",
    "        pass\n",
    "    @abstractmethod\n",
    "    def getstudept(self,dept):\n",
    "        pass"
   ]
  },
  {
   "cell_type": "code",
   "execution_count": 52,
   "id": "fba19cf5",
   "metadata": {},
   "outputs": [],
   "source": [
    "# abstractmethod implementation\n",
    "class StudentImpl(Student):\n",
    "    \n",
    "    #encapsulation-->>private(__),protected(_),public\n",
    "    \n",
    "    def __init__(self,name,dept):\n",
    "        self.__name = name\n",
    "        self.__dept = dept\n",
    "    \n",
    "    def getstuname(self):\n",
    "        return self.__name\n",
    "    \n",
    "    def setstuname(self,name):\n",
    "        self.__name=name\n",
    "    \n",
    "    def getstudept(self):\n",
    "        return self.__dept\n",
    "    \n",
    "    def setstudept(self,dept):\n",
    "        self.__dept=dept\n",
    "        \n",
    "        \n"
   ]
  },
  {
   "cell_type": "code",
   "execution_count": 51,
   "id": "4fce77b7",
   "metadata": {},
   "outputs": [
    {
     "data": {
      "text/plain": [
       "<__main__.StudentImpl at 0x23a48985dc0>"
      ]
     },
     "execution_count": 51,
     "metadata": {},
     "output_type": "execute_result"
    }
   ],
   "source": [
    "student = StudentImpl(\"MD\",\"CSE\")\n"
   ]
  },
  {
   "cell_type": "code",
   "execution_count": 50,
   "id": "5cbb090e",
   "metadata": {},
   "outputs": [
    {
     "ename": "AttributeError",
     "evalue": "'StudentImpl' object has no attribute 'name'",
     "output_type": "error",
     "traceback": [
      "\u001b[1;31m---------------------------------------------------------------------------\u001b[0m",
      "\u001b[1;31mAttributeError\u001b[0m                            Traceback (most recent call last)",
      "\u001b[1;32mC:\\Users\\MONORO~1\\AppData\\Local\\Temp/ipykernel_4524/2728737192.py\u001b[0m in \u001b[0;36m<module>\u001b[1;34m\u001b[0m\n\u001b[1;32m----> 1\u001b[1;33m \u001b[0mstudent\u001b[0m\u001b[1;33m.\u001b[0m\u001b[0mname\u001b[0m\u001b[1;33m\u001b[0m\u001b[1;33m\u001b[0m\u001b[0m\n\u001b[0m",
      "\u001b[1;31mAttributeError\u001b[0m: 'StudentImpl' object has no attribute 'name'"
     ]
    }
   ],
   "source": [
    "student.name"
   ]
  },
  {
   "cell_type": "code",
   "execution_count": 45,
   "id": "941f795a",
   "metadata": {},
   "outputs": [
    {
     "data": {
      "text/plain": [
       "'CSE'"
      ]
     },
     "execution_count": 45,
     "metadata": {},
     "output_type": "execute_result"
    }
   ],
   "source": [
    "student.dept"
   ]
  },
  {
   "cell_type": "code",
   "execution_count": 46,
   "id": "0f1e2727",
   "metadata": {},
   "outputs": [
    {
     "data": {
      "text/plain": [
       "'MD'"
      ]
     },
     "execution_count": 46,
     "metadata": {},
     "output_type": "execute_result"
    }
   ],
   "source": [
    "student.getstuname()"
   ]
  },
  {
   "cell_type": "code",
   "execution_count": 47,
   "id": "c06e5e30",
   "metadata": {},
   "outputs": [
    {
     "data": {
      "text/plain": [
       "'CSE'"
      ]
     },
     "execution_count": 47,
     "metadata": {},
     "output_type": "execute_result"
    }
   ],
   "source": [
    "student.getstudept()"
   ]
  },
  {
   "cell_type": "code",
   "execution_count": 99,
   "id": "638c555f",
   "metadata": {},
   "outputs": [],
   "source": [
    "class StudentAccount(StudentImpl):\n",
    "    def __init__(self,name,dept,sem,credit,fees,waiver=0.0):\n",
    "        super(StudentAccount,self).__init__(name=name,dept=dept)\n",
    "        self.credit = credit\n",
    "        self.fees = fees\n",
    "        self.waiver = waiver\n",
    "        self.total_fees = credit*fees\n",
    "        self.is_registered = False\n",
    "        \n",
    "    def __set_registered(self):\n",
    "        self.is_registered = True\n",
    "        \n",
    "    \n",
    "    def __have_waiver(self,):\n",
    "        if self.waiver>0:\n",
    "            total_fees = self.total_fees-self.waiver\n",
    "            self.total_fees = total_fees\n",
    "        return total_fees \n",
    "        \n",
    "    def get_total_fees(self,):\n",
    "        return self.total_fees\n",
    "    \n",
    "     \n",
    "    def first_payment(self,):\n",
    "        \n",
    "        first_amount = (self.total_fees*0.4)\n",
    "        return first_amount\n",
    "    \n",
    "    def get_registered(self,payment):\n",
    "        if payment >= self.first_payment():\n",
    "            self.__set_registered()\n",
    "            print(\"You are registered\")\n",
    "            due = self.total_fees-payment\n",
    "            self.total_fees = due\n",
    "        \n",
    "        else:\n",
    "            print(\"Not Sufficient.so,You have to pay\",self.first_payment())\n",
    "            \n",
    "    \n",
    "    def get_reg_info(self):\n",
    "        return self.is_registered\n",
    "        "
   ]
  },
  {
   "cell_type": "code",
   "execution_count": 100,
   "id": "8f9712e1",
   "metadata": {},
   "outputs": [],
   "source": [
    "stuacc = StudentAccount(\"MOno\",\"CSE\",\"7nd\",20,5000,0.2)"
   ]
  },
  {
   "cell_type": "code",
   "execution_count": 101,
   "id": "13ff0a65",
   "metadata": {},
   "outputs": [
    {
     "data": {
      "text/plain": [
       "('MOno', 'CSE')"
      ]
     },
     "execution_count": 101,
     "metadata": {},
     "output_type": "execute_result"
    }
   ],
   "source": [
    "stuacc.getstuname(),stuacc.getstudept()"
   ]
  },
  {
   "cell_type": "code",
   "execution_count": null,
   "id": "e7bd933b",
   "metadata": {},
   "outputs": [],
   "source": []
  },
  {
   "cell_type": "code",
   "execution_count": 102,
   "id": "1ef8fc58",
   "metadata": {},
   "outputs": [
    {
     "data": {
      "text/plain": [
       "40000.0"
      ]
     },
     "execution_count": 102,
     "metadata": {},
     "output_type": "execute_result"
    }
   ],
   "source": [
    "stuacc.first_payment()"
   ]
  },
  {
   "cell_type": "code",
   "execution_count": 103,
   "id": "4d6392b9",
   "metadata": {},
   "outputs": [
    {
     "data": {
      "text/plain": [
       "False"
      ]
     },
     "execution_count": 103,
     "metadata": {},
     "output_type": "execute_result"
    }
   ],
   "source": [
    "stuacc.get_reg_info()"
   ]
  },
  {
   "cell_type": "code",
   "execution_count": 104,
   "id": "97df3cd5",
   "metadata": {},
   "outputs": [
    {
     "name": "stdout",
     "output_type": "stream",
     "text": [
      "You are registered\n"
     ]
    }
   ],
   "source": [
    "stuacc.get_registered(45000)"
   ]
  },
  {
   "cell_type": "code",
   "execution_count": 105,
   "id": "aeaad839",
   "metadata": {},
   "outputs": [
    {
     "data": {
      "text/plain": [
       "True"
      ]
     },
     "execution_count": 105,
     "metadata": {},
     "output_type": "execute_result"
    }
   ],
   "source": [
    "stuacc.get_reg_info()"
   ]
  },
  {
   "cell_type": "code",
   "execution_count": null,
   "id": "1f1da9b2",
   "metadata": {},
   "outputs": [],
   "source": []
  },
  {
   "cell_type": "code",
   "execution_count": null,
   "id": "e3b96274",
   "metadata": {},
   "outputs": [],
   "source": []
  }
 ],
 "metadata": {
  "kernelspec": {
   "display_name": "Python 3 (ipykernel)",
   "language": "python",
   "name": "python3"
  },
  "language_info": {
   "codemirror_mode": {
    "name": "ipython",
    "version": 3
   },
   "file_extension": ".py",
   "mimetype": "text/x-python",
   "name": "python",
   "nbconvert_exporter": "python",
   "pygments_lexer": "ipython3",
   "version": "3.9.7"
  }
 },
 "nbformat": 4,
 "nbformat_minor": 5
}
