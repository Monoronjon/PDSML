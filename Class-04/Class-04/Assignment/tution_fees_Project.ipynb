{
 "cells": [
  {
   "cell_type": "code",
   "execution_count": 5,
   "id": "599a141a",
   "metadata": {},
   "outputs": [],
   "source": [
    "#Abstractmethod\n",
    "from abc import ABC,abstractmethod"
   ]
  },
  {
   "cell_type": "code",
   "execution_count": 6,
   "id": "d70eb7c5",
   "metadata": {},
   "outputs": [],
   "source": [
    "#Abstractmethod\n",
    "class Student(ABC):\n",
    "    \n",
    "    @abstractmethod\n",
    "    def getstuname(self):\n",
    "        pass\n",
    "    @abstractmethod\n",
    "    def setstuname(self,name):\n",
    "        pass\n",
    "    @abstractmethod\n",
    "    def getstudept(self):\n",
    "        pass\n",
    "    @abstractmethod\n",
    "    def getstudept(self,dept):\n",
    "        pass"
   ]
  },
  {
   "cell_type": "code",
   "execution_count": 7,
   "id": "8a1137f5",
   "metadata": {},
   "outputs": [],
   "source": [
    "# abstractmethod implementation\n",
    "class StudentImpl(Student):\n",
    "    \n",
    "    #encapsulation-->>private(__),protected(_),public\n",
    "    \n",
    "    def __init__(self,name,dept):\n",
    "        self.__name = name\n",
    "        self.__dept = dept\n",
    "    \n",
    "    def getstuname(self):\n",
    "        return self.__name\n",
    "    \n",
    "    def setstuname(self,name):\n",
    "        self.__name=name\n",
    "    \n",
    "    def getstudept(self):\n",
    "        return self.__dept\n",
    "    \n",
    "    def setstudept(self,dept):\n",
    "        self.__dept=dept\n",
    "        \n",
    "        \n"
   ]
  },
  {
   "cell_type": "code",
   "execution_count": 8,
   "id": "c19f419d",
   "metadata": {},
   "outputs": [],
   "source": [
    "class StudentAccount(StudentImpl):\n",
    "    def __init__(self,name,dept,sem,credit,fees,waiver=0.0):\n",
    "        super(StudentAccount,self).__init__(name=name,dept=dept)\n",
    "        self.credit = credit\n",
    "        self.fees = fees\n",
    "        self.waiver = waiver\n",
    "        self.total_fees = credit*fees\n",
    "        self.is_registered = False\n",
    "        \n",
    "    def __set_registered(self):\n",
    "        self.is_registered = True\n",
    "        \n",
    "    \n",
    "    def have_waiver(self,):\n",
    "        if self.waiver>0:\n",
    "            total_fees = self.total_fees-self.waiver\n",
    "            self.total_fees = total_fees\n",
    "        return total_fees \n",
    "        \n",
    "    def get_total_fees(self,):\n",
    "        return self.total_fees\n",
    "    \n",
    "     \n",
    "    def first_payment(self,):\n",
    "        \n",
    "        first_amount = (self.total_fees*0.4)\n",
    "        return first_amount\n",
    "    \n",
    "    def get_registered(self,payment):\n",
    "        if payment >= self.first_payment():\n",
    "            self.__set_registered()\n",
    "            print(\"You are registered\")\n",
    "            due = self.total_fees-payment\n",
    "            self.total_fees = due\n",
    "            \n",
    "        \n",
    "        else:\n",
    "            print(\"Not Sufficient.so,You have to pay\",self.first_payment())\n",
    "            \n",
    "    \n",
    "    def get_reg_info(self):\n",
    "        return self.is_registered\n",
    "        "
   ]
  },
  {
   "cell_type": "code",
   "execution_count": 9,
   "id": "01a430b6",
   "metadata": {},
   "outputs": [
    {
     "name": "stdout",
     "output_type": "stream",
     "text": [
      "Enter your Name: Monoronjon\n",
      "Enter your Dept: CSE\n",
      "Enter your Semister: 7\n",
      "Semister Totall Credit: 13\n",
      "Enter your per Credit tution Fees: 5000\n",
      "Enter your Waiver: 10000\n"
     ]
    }
   ],
   "source": [
    "stuacc = StudentAccount(input(\"Enter your Name: \"),input(\"Enter your Dept: \"),int(input(\"Enter your Semister: \")),int(input(\"Semister Totall Credit: \")),int(input(\"Enter your per Credit tution Fees: \")),float(input(\"Enter your Waiver: \")))"
   ]
  },
  {
   "cell_type": "code",
   "execution_count": 10,
   "id": "21e7ea14",
   "metadata": {},
   "outputs": [
    {
     "data": {
      "text/plain": [
       "55000.0"
      ]
     },
     "execution_count": 10,
     "metadata": {},
     "output_type": "execute_result"
    }
   ],
   "source": [
    "stuacc.have_waiver()"
   ]
  },
  {
   "cell_type": "code",
   "execution_count": 11,
   "id": "51dd56ef",
   "metadata": {},
   "outputs": [
    {
     "data": {
      "text/plain": [
       "22000.0"
      ]
     },
     "execution_count": 11,
     "metadata": {},
     "output_type": "execute_result"
    }
   ],
   "source": [
    "stuacc.first_payment()\n",
    "\n"
   ]
  },
  {
   "cell_type": "code",
   "execution_count": 12,
   "id": "14db5ca0",
   "metadata": {},
   "outputs": [
    {
     "data": {
      "text/plain": [
       "False"
      ]
     },
     "execution_count": 12,
     "metadata": {},
     "output_type": "execute_result"
    }
   ],
   "source": [
    "stuacc.get_reg_info()"
   ]
  },
  {
   "cell_type": "code",
   "execution_count": 13,
   "id": "b38a1768",
   "metadata": {},
   "outputs": [
    {
     "name": "stdout",
     "output_type": "stream",
     "text": [
      "First payment 40% for registration: 22000\n",
      "You are registered\n"
     ]
    }
   ],
   "source": [
    "stuacc.get_registered(int(input(\"First payment 40% for registration: \",)))"
   ]
  },
  {
   "cell_type": "code",
   "execution_count": 14,
   "id": "06a6d0d5",
   "metadata": {},
   "outputs": [
    {
     "data": {
      "text/plain": [
       "True"
      ]
     },
     "execution_count": 14,
     "metadata": {},
     "output_type": "execute_result"
    }
   ],
   "source": [
    "stuacc.get_reg_info()"
   ]
  },
  {
   "cell_type": "code",
   "execution_count": 15,
   "id": "9c6ddf1f",
   "metadata": {},
   "outputs": [
    {
     "data": {
      "text/plain": [
       "33000.0"
      ]
     },
     "execution_count": 15,
     "metadata": {},
     "output_type": "execute_result"
    }
   ],
   "source": [
    "stuacc.total_fees"
   ]
  },
  {
   "cell_type": "code",
   "execution_count": 16,
   "id": "6c530961",
   "metadata": {},
   "outputs": [
    {
     "name": "stdout",
     "output_type": "stream",
     "text": [
      "Second Installment Tution Fees 33000.0\n"
     ]
    }
   ],
   "source": [
    "stuacc = print(\"Second Installment Tution Fees\",stuacc.total_fees)"
   ]
  },
  {
   "cell_type": "code",
   "execution_count": null,
   "id": "3c7e070a",
   "metadata": {},
   "outputs": [],
   "source": []
  },
  {
   "cell_type": "code",
   "execution_count": null,
   "id": "ac02ba9e",
   "metadata": {},
   "outputs": [],
   "source": []
  },
  {
   "cell_type": "code",
   "execution_count": null,
   "id": "f4ee884c",
   "metadata": {},
   "outputs": [],
   "source": []
  },
  {
   "cell_type": "code",
   "execution_count": null,
   "id": "5027eaaf",
   "metadata": {},
   "outputs": [],
   "source": []
  },
  {
   "cell_type": "code",
   "execution_count": null,
   "id": "c5e98904",
   "metadata": {},
   "outputs": [],
   "source": []
  }
 ],
 "metadata": {
  "kernelspec": {
   "display_name": "Python 3 (ipykernel)",
   "language": "python",
   "name": "python3"
  },
  "language_info": {
   "codemirror_mode": {
    "name": "ipython",
    "version": 3
   },
   "file_extension": ".py",
   "mimetype": "text/x-python",
   "name": "python",
   "nbconvert_exporter": "python",
   "pygments_lexer": "ipython3",
   "version": "3.9.7"
  }
 },
 "nbformat": 4,
 "nbformat_minor": 5
}
