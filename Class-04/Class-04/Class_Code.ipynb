{
 "cells": [
  {
   "cell_type": "code",
   "execution_count": 1,
   "id": "9e512efb",
   "metadata": {},
   "outputs": [
    {
     "ename": "SyntaxError",
     "evalue": "invalid syntax (Temp/ipykernel_7960/699329277.py, line 14)",
     "output_type": "error",
     "traceback": [
      "\u001b[1;36m  File \u001b[1;32m\"C:\\Users\\MONORO~1\\AppData\\Local\\Temp/ipykernel_7960/699329277.py\"\u001b[1;36m, line \u001b[1;32m14\u001b[0m\n\u001b[1;33m    def get\u001b[0m\n\u001b[1;37m           ^\u001b[0m\n\u001b[1;31mSyntaxError\u001b[0m\u001b[1;31m:\u001b[0m invalid syntax\n"
     ]
    }
   ],
   "source": [
    "class Student():\n",
    "    #propertics=>1.attribute/variable(global,local)/instance ,2.function=>(builting,custom)\n",
    "    \n",
    "    name = \"\"\n",
    "    dept = \"\"\n",
    "    #constrator\n",
    "    def __init__(self,name,dept):\n",
    "        self.name = name\n",
    "        self.dept = dept\n",
    "    \n",
    "    def __str__(self):\n",
    "        return self.name+\" \"+self.dept\n",
    "    \n",
    "    def get\n",
    "    "
   ]
  },
  {
   "cell_type": "code",
   "execution_count": 2,
   "id": "7c890d33",
   "metadata": {},
   "outputs": [
    {
     "ename": "NameError",
     "evalue": "name 'Student' is not defined",
     "output_type": "error",
     "traceback": [
      "\u001b[1;31m---------------------------------------------------------------------------\u001b[0m",
      "\u001b[1;31mNameError\u001b[0m                                 Traceback (most recent call last)",
      "\u001b[1;32mC:\\Users\\MONORO~1\\AppData\\Local\\Temp/ipykernel_7960/1997034427.py\u001b[0m in \u001b[0;36m<module>\u001b[1;34m\u001b[0m\n\u001b[0;32m      1\u001b[0m \u001b[1;31m#create an objec\u001b[0m\u001b[1;33m\u001b[0m\u001b[1;33m\u001b[0m\u001b[0m\n\u001b[1;32m----> 2\u001b[1;33m \u001b[0mstudent\u001b[0m \u001b[1;33m=\u001b[0m \u001b[0mStudent\u001b[0m\u001b[1;33m(\u001b[0m\u001b[1;34m\"Monoronjon\"\u001b[0m\u001b[1;33m,\u001b[0m\u001b[1;34m\"CSE\"\u001b[0m\u001b[1;33m)\u001b[0m\u001b[1;33m\u001b[0m\u001b[1;33m\u001b[0m\u001b[0m\n\u001b[0m\u001b[0;32m      3\u001b[0m \u001b[0mprint\u001b[0m\u001b[1;33m(\u001b[0m\u001b[0mstudent\u001b[0m\u001b[1;33m)\u001b[0m\u001b[1;33m\u001b[0m\u001b[1;33m\u001b[0m\u001b[0m\n",
      "\u001b[1;31mNameError\u001b[0m: name 'Student' is not defined"
     ]
    }
   ],
   "source": [
    "#create an objec\n",
    "student = Student(\"Monoronjon\",\"CSE\")\n",
    "print(student)"
   ]
  },
  {
   "cell_type": "code",
   "execution_count": null,
   "id": "ea6a0bff",
   "metadata": {},
   "outputs": [],
   "source": [
    "student.name,student.dept"
   ]
  },
  {
   "cell_type": "markdown",
   "id": "5208442d",
   "metadata": {},
   "source": [
    "# Opp Principles"
   ]
  },
  {
   "cell_type": "code",
   "execution_count": 3,
   "id": "7a22f078",
   "metadata": {},
   "outputs": [],
   "source": [
    "#Abstractmethod\n",
    "from abc import ABC,abstractmethod"
   ]
  },
  {
   "cell_type": "code",
   "execution_count": 4,
   "id": "1c0f3d25",
   "metadata": {},
   "outputs": [],
   "source": [
    "#Abstractmethod\n",
    "class Student(ABC):\n",
    "    \n",
    "    \n",
    "        \n",
    "    @abstractmethod\n",
    "    def getstuname(self):\n",
    "        pass\n",
    "    @abstractmethod\n",
    "    def setstuname(self,name):\n",
    "        pass\n",
    "    @abstractmethod\n",
    "    def getstudept(self):\n",
    "        pass\n",
    "    @abstractmethod\n",
    "    def getstudept(self,dept):\n",
    "        pass"
   ]
  },
  {
   "cell_type": "code",
   "execution_count": 5,
   "id": "fba19cf5",
   "metadata": {},
   "outputs": [],
   "source": [
    "# abstractmethod implementation\n",
    "class StudentImpl(Student):\n",
    "    \n",
    "    #encapsulation-->>private(__),protected(_),public\n",
    "    \n",
    "    def __init__(self,name,dept):\n",
    "        self.__name = name\n",
    "        self.__dept = dept\n",
    "    \n",
    "    def getstuname(self):\n",
    "        return self.__name\n",
    "    \n",
    "    def setstuname(self,name):\n",
    "        self.__name=name\n",
    "    \n",
    "    def getstudept(self):\n",
    "        return self.__dept\n",
    "    \n",
    "    def setstudept(self,dept):\n",
    "        self.__dept=dept\n",
    "        \n",
    "        \n"
   ]
  },
  {
   "cell_type": "code",
   "execution_count": 6,
   "id": "4fce77b7",
   "metadata": {},
   "outputs": [],
   "source": [
    "student = StudentImpl(\"MD\",\"CSE\")\n"
   ]
  },
  {
   "cell_type": "code",
   "execution_count": 7,
   "id": "5cbb090e",
   "metadata": {},
   "outputs": [
    {
     "ename": "AttributeError",
     "evalue": "'StudentImpl' object has no attribute 'name'",
     "output_type": "error",
     "traceback": [
      "\u001b[1;31m---------------------------------------------------------------------------\u001b[0m",
      "\u001b[1;31mAttributeError\u001b[0m                            Traceback (most recent call last)",
      "\u001b[1;32mC:\\Users\\MONORO~1\\AppData\\Local\\Temp/ipykernel_7960/2728737192.py\u001b[0m in \u001b[0;36m<module>\u001b[1;34m\u001b[0m\n\u001b[1;32m----> 1\u001b[1;33m \u001b[0mstudent\u001b[0m\u001b[1;33m.\u001b[0m\u001b[0mname\u001b[0m\u001b[1;33m\u001b[0m\u001b[1;33m\u001b[0m\u001b[0m\n\u001b[0m",
      "\u001b[1;31mAttributeError\u001b[0m: 'StudentImpl' object has no attribute 'name'"
     ]
    }
   ],
   "source": [
    "student.name"
   ]
  },
  {
   "cell_type": "code",
   "execution_count": 8,
   "id": "941f795a",
   "metadata": {},
   "outputs": [
    {
     "ename": "AttributeError",
     "evalue": "'StudentImpl' object has no attribute 'dept'",
     "output_type": "error",
     "traceback": [
      "\u001b[1;31m---------------------------------------------------------------------------\u001b[0m",
      "\u001b[1;31mAttributeError\u001b[0m                            Traceback (most recent call last)",
      "\u001b[1;32mC:\\Users\\MONORO~1\\AppData\\Local\\Temp/ipykernel_7960/31720138.py\u001b[0m in \u001b[0;36m<module>\u001b[1;34m\u001b[0m\n\u001b[1;32m----> 1\u001b[1;33m \u001b[0mstudent\u001b[0m\u001b[1;33m.\u001b[0m\u001b[0mdept\u001b[0m\u001b[1;33m\u001b[0m\u001b[1;33m\u001b[0m\u001b[0m\n\u001b[0m",
      "\u001b[1;31mAttributeError\u001b[0m: 'StudentImpl' object has no attribute 'dept'"
     ]
    }
   ],
   "source": [
    "student.dept"
   ]
  },
  {
   "cell_type": "code",
   "execution_count": 9,
   "id": "0f1e2727",
   "metadata": {},
   "outputs": [
    {
     "data": {
      "text/plain": [
       "'MD'"
      ]
     },
     "execution_count": 9,
     "metadata": {},
     "output_type": "execute_result"
    }
   ],
   "source": [
    "student.getstuname()"
   ]
  },
  {
   "cell_type": "code",
   "execution_count": 10,
   "id": "c06e5e30",
   "metadata": {},
   "outputs": [
    {
     "data": {
      "text/plain": [
       "'CSE'"
      ]
     },
     "execution_count": 10,
     "metadata": {},
     "output_type": "execute_result"
    }
   ],
   "source": [
    "student.getstudept()"
   ]
  },
  {
   "cell_type": "code",
   "execution_count": 12,
   "id": "638c555f",
   "metadata": {},
   "outputs": [],
   "source": [
    "class StudentAccount(StudentImpl):\n",
    "    def __init__(self,name,dept,sem,credit,fees,waiver=0.0):\n",
    "        super(StudentAccount,self).__init__(name=name,dept=dept)\n",
    "        self.credit = credit\n",
    "        self.fees = fees\n",
    "        self.waiver = waiver\n",
    "        self.total_fees = credit*fees\n",
    "        self.is_registered = False\n",
    "        \n",
    "    def __set_registered(self):\n",
    "        self.is_registered = True\n",
    "        \n",
    "    \n",
    "    def have_waiver(self,):\n",
    "        print(\"YES/NO\")\n",
    "        if self.waiver==YES:\n",
    "            total_fees = self.total_fees-self.waiver\n",
    "            self.total_fees = total_fees\n",
    "        return total_fees \n",
    "        \n",
    "        \n",
    "    def get_total_fees(self,):\n",
    "        return self.total_fees\n",
    "    \n",
    "     \n",
    "    def first_payment(self,):\n",
    "        \n",
    "        first_amount = (self.total_fees*0.4)\n",
    "        return first_amount\n",
    "    \n",
    "    def get_registered(self,payment):\n",
    "        if payment >= self.first_payment():\n",
    "            self.__set_registered()\n",
    "            print(\"You are registered\")\n",
    "            due = self.total_fees-payment\n",
    "            self.total_fees = due\n",
    "            \n",
    "        \n",
    "        else:\n",
    "            print(\"Not Sufficient.so,You have to pay\",self.first_payment())\n",
    "            \n",
    "    \n",
    "    def get_reg_info(self):\n",
    "        return self.is_registered\n",
    "        "
   ]
  },
  {
   "cell_type": "code",
   "execution_count": 13,
   "id": "1121a609",
   "metadata": {},
   "outputs": [
    {
     "name": "stdout",
     "output_type": "stream",
     "text": [
      "Name: Monoronjon\n",
      "Dept: CSE\n",
      "Semister: 7\n",
      "Credit: 7\n",
      "Fees: 20000\n",
      "Waiver: 10000\n"
     ]
    }
   ],
   "source": [
    "stuacc = StudentAccount(input(\"Name: \"),input(\"Dept: \"),int(input(\"Semister: \")),int(input(\"Credit: \")),int(input(\"Fees: \")),float(input(\"Waiver: \")))\n",
    "\n",
    "                      \n",
    "#stuacc = StudentAccount(\"MOno\",\"CSE\",\"7nd\",20,5000,10000)"
   ]
  },
  {
   "cell_type": "code",
   "execution_count": null,
   "id": "8ca09161",
   "metadata": {},
   "outputs": [],
   "source": [
    "stuacc.getstuname(),stuacc.getstudept()"
   ]
  },
  {
   "cell_type": "code",
   "execution_count": null,
   "id": "4f0c883d",
   "metadata": {},
   "outputs": [],
   "source": [
    "stuacc.have_waiver()"
   ]
  },
  {
   "cell_type": "code",
   "execution_count": null,
   "id": "4cbac657",
   "metadata": {},
   "outputs": [],
   "source": [
    "stuacc.first_payment()"
   ]
  },
  {
   "cell_type": "code",
   "execution_count": null,
   "id": "4859f3a9",
   "metadata": {},
   "outputs": [],
   "source": [
    "stuacc.get_reg_info()"
   ]
  },
  {
   "cell_type": "code",
   "execution_count": null,
   "id": "18af30ff",
   "metadata": {},
   "outputs": [],
   "source": [
    "stuacc.get_registered(int(input(\"First payment : 50% : \")))"
   ]
  },
  {
   "cell_type": "code",
   "execution_count": null,
   "id": "7697cefc",
   "metadata": {},
   "outputs": [],
   "source": [
    "stuacc.get_reg_info()"
   ]
  },
  {
   "cell_type": "code",
   "execution_count": null,
   "id": "d128ea56",
   "metadata": {},
   "outputs": [],
   "source": [
    "stuacc.total_fees"
   ]
  },
  {
   "cell_type": "code",
   "execution_count": null,
   "id": "8cfc888f",
   "metadata": {},
   "outputs": [],
   "source": []
  },
  {
   "cell_type": "code",
   "execution_count": null,
   "id": "09b5e93e",
   "metadata": {},
   "outputs": [],
   "source": []
  }
 ],
 "metadata": {
  "kernelspec": {
   "display_name": "Python 3 (ipykernel)",
   "language": "python",
   "name": "python3"
  },
  "language_info": {
   "codemirror_mode": {
    "name": "ipython",
    "version": 3
   },
   "file_extension": ".py",
   "mimetype": "text/x-python",
   "name": "python",
   "nbconvert_exporter": "python",
   "pygments_lexer": "ipython3",
   "version": "3.9.7"
  }
 },
 "nbformat": 4,
 "nbformat_minor": 5
}
