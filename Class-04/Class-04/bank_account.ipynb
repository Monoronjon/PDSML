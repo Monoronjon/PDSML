{
 "cells": [
  {
   "cell_type": "code",
   "execution_count": 1,
   "id": "687cc304",
   "metadata": {},
   "outputs": [],
   "source": [
    "#Abstractmethod\n",
    "from abc import ABC,abstractmethod"
   ]
  },
  {
   "cell_type": "code",
   "execution_count": 2,
   "id": "a05833f2",
   "metadata": {},
   "outputs": [],
   "source": [
    "#Abstractmethod\n",
    "class Customer(ABC):\n",
    "    \n",
    "        \n",
    "    @abstractmethod\n",
    "    def getCustomerName(self):\n",
    "        pass\n",
    "    @abstractmethod\n",
    "    def setCustomerName(self,name):\n",
    "        pass\n",
    "    \n",
    "    \n",
    "    @abstractmethod\n",
    "    def getCustomerdAge(self):\n",
    "        pass\n",
    "    @abstractmethod\n",
    "    def getCustomerAge(self,age):\n",
    "        pass\n",
    "    \n",
    "    \n",
    "    @abstractmethod\n",
    "    def getCustomerID(self):\n",
    "        pass\n",
    "    @abstractmethod\n",
    "    def getCustomerID(self,id):\n",
    "        pass\n",
    "    \n",
    "    \n",
    "    @abstractmethod\n",
    "    def getCustomerAddress(self):\n",
    "        pass\n",
    "    @abstractmethod\n",
    "    def getCustomerAddress(self,address):\n",
    "        pass\n",
    "    "
   ]
  },
  {
   "cell_type": "code",
   "execution_count": 3,
   "id": "6aac12c8",
   "metadata": {},
   "outputs": [],
   "source": [
    "class CustomerImpl(Customer):\n",
    "    def __init__(self,name,age,id,address):\n",
    "        self.name = name\n",
    "        self.age = age\n",
    "        self.id = id\n",
    "        self.address = address\n",
    "        \n",
    "    #Customer name\n",
    "    def getCustomerName(self):\n",
    "        return self.name\n",
    "    def setCustomerName(self,name):\n",
    "        self.name = name\n",
    "        \n",
    "    #Customer AGE   \n",
    "    def getCustomerdAge(self):\n",
    "        return self.age\n",
    "    def getCustomerAge(self,age):\n",
    "        self.age = age\n",
    "    \n",
    "    #Customer ID\n",
    "    def getCustomerID(self):\n",
    "        return self.id\n",
    "    def getCustomerID(self,id):\n",
    "        self.id = id\n",
    "    \n",
    "    #Customer Address\n",
    "    def getCustomerAddress(self):\n",
    "        return self.address\n",
    "    def getCustomerAddress(self,address):\n",
    "        self.address = address\n",
    "    "
   ]
  },
  {
   "cell_type": "code",
   "execution_count": 4,
   "id": "48ea03fc",
   "metadata": {},
   "outputs": [
    {
     "data": {
      "text/plain": [
       "22"
      ]
     },
     "execution_count": 4,
     "metadata": {},
     "output_type": "execute_result"
    }
   ],
   "source": [
    "customer = CustomerImpl(\"Monoronjon\",22,101,\"Khulna\")\n",
    "customer.age"
   ]
  },
  {
   "cell_type": "code",
   "execution_count": 5,
   "id": "974f8d00",
   "metadata": {},
   "outputs": [],
   "source": [
    "class savingAccounts(CustomerImpl):\n",
    "    def __init__(self,name,age,id,address):\n",
    "        super(savingAccounts,self).__init__(name=name,age = age,id = id,address = address)\n",
    "        self.name = name\n",
    "        self.age = age\n",
    "        self.id = id\n",
    "        self.address = address\n",
    "        self.balance=0\n",
    "        self.accountCreate = False\n",
    "        is_logined = False\n",
    "        is_quit = False\n",
    "        \n",
    "    def create_user(self):\n",
    "        user = {\"name\": \"\",\"age\": \"\",\"id\": \"\",\"address\": \"\",'balance': 0 }\n",
    "        self.name = input('Enter your name: ')\n",
    "        self.user['name'] = name\n",
    "\n",
    "        self.age = input(\"Enter your age : \")\n",
    "        self.user[\"age\"] = age\n",
    "    \n",
    "        self.id = int(input(\"Enter your NID Number: \"))\n",
    "        self.user[\"id\"] = id\n",
    "\n",
    "        self.address = input('Enter your address: ')\n",
    "        self.user[\"address\"] = address\n",
    "\n",
    "        global is_logined\n",
    "        is_logined = True\n",
    "        \n",
    "    def deposit(self):\n",
    "        amount=float(input(\"Enter amount to be Deposited: \"))\n",
    "        self.balance += amount\n",
    "        print(\"\\n Amount Deposited:\",amount)\n",
    "\n",
    "    def withdraw(self):\n",
    "        amount = float(input(\"Enter amount to be Withdrawn: \"))\n",
    "        if self.balance>=amount:\n",
    "            self.balance-=amount\n",
    "            print(\"\\n You Withdrew:\", amount)\n",
    "        else:\n",
    "            print(\"\\n Insufficient balance \")\n",
    "\n",
    "    def display(self):\n",
    "        print(\"\\n Net Available Balance=\",self.balance)\n",
    "\n",
    "\n",
    "    "
   ]
  },
  {
   "cell_type": "code",
   "execution_count": 6,
   "id": "0a7ee8f5",
   "metadata": {},
   "outputs": [
    {
     "ename": "TypeError",
     "evalue": "__init__() missing 4 required positional arguments: 'name', 'age', 'id', and 'address'",
     "output_type": "error",
     "traceback": [
      "\u001b[1;31m---------------------------------------------------------------------------\u001b[0m",
      "\u001b[1;31mTypeError\u001b[0m                                 Traceback (most recent call last)",
      "\u001b[1;32mC:\\Users\\MONORO~1\\AppData\\Local\\Temp/ipykernel_8496/2604262697.py\u001b[0m in \u001b[0;36m<module>\u001b[1;34m\u001b[0m\n\u001b[1;32m----> 1\u001b[1;33m \u001b[0ms\u001b[0m \u001b[1;33m=\u001b[0m \u001b[0msavingAccounts\u001b[0m\u001b[1;33m(\u001b[0m\u001b[1;33m)\u001b[0m\u001b[1;33m\u001b[0m\u001b[1;33m\u001b[0m\u001b[0m\n\u001b[0m\u001b[0;32m      2\u001b[0m \u001b[0ms\u001b[0m\u001b[1;33m.\u001b[0m\u001b[0mcreate_user\u001b[0m\u001b[1;33m(\u001b[0m\u001b[1;33m)\u001b[0m\u001b[1;33m\u001b[0m\u001b[1;33m\u001b[0m\u001b[0m\n\u001b[0;32m      3\u001b[0m \u001b[0ms\u001b[0m\u001b[1;33m.\u001b[0m\u001b[0mdeposit\u001b[0m\u001b[1;33m(\u001b[0m\u001b[1;33m)\u001b[0m\u001b[1;33m\u001b[0m\u001b[1;33m\u001b[0m\u001b[0m\n\u001b[0;32m      4\u001b[0m \u001b[0ms\u001b[0m\u001b[1;33m.\u001b[0m\u001b[0mwithdraw\u001b[0m\u001b[1;33m(\u001b[0m\u001b[1;33m)\u001b[0m\u001b[1;33m\u001b[0m\u001b[1;33m\u001b[0m\u001b[0m\n\u001b[0;32m      5\u001b[0m \u001b[0ms\u001b[0m\u001b[1;33m.\u001b[0m\u001b[0mdisplay\u001b[0m\u001b[1;33m(\u001b[0m\u001b[1;33m)\u001b[0m\u001b[1;33m\u001b[0m\u001b[1;33m\u001b[0m\u001b[0m\n",
      "\u001b[1;31mTypeError\u001b[0m: __init__() missing 4 required positional arguments: 'name', 'age', 'id', and 'address'"
     ]
    }
   ],
   "source": [
    "s = savingAccounts()\n",
    "s.create_user()\n",
    "s.deposit()\n",
    "s.withdraw()\n",
    "s.display()\n"
   ]
  },
  {
   "cell_type": "code",
   "execution_count": null,
   "id": "cc996e60",
   "metadata": {},
   "outputs": [],
   "source": []
  },
  {
   "cell_type": "code",
   "execution_count": null,
   "id": "977063d1",
   "metadata": {},
   "outputs": [],
   "source": []
  },
  {
   "cell_type": "code",
   "execution_count": null,
   "id": "5ab6e9f8",
   "metadata": {},
   "outputs": [],
   "source": []
  },
  {
   "cell_type": "code",
   "execution_count": null,
   "id": "8d2049f8",
   "metadata": {},
   "outputs": [],
   "source": []
  },
  {
   "cell_type": "code",
   "execution_count": null,
   "id": "8f373d56",
   "metadata": {},
   "outputs": [],
   "source": []
  },
  {
   "cell_type": "code",
   "execution_count": null,
   "id": "79393346",
   "metadata": {},
   "outputs": [],
   "source": [
    "\n",
    "        "
   ]
  },
  {
   "cell_type": "code",
   "execution_count": null,
   "id": "77b65dbe",
   "metadata": {},
   "outputs": [],
   "source": []
  },
  {
   "cell_type": "code",
   "execution_count": null,
   "id": "e2b0e381",
   "metadata": {},
   "outputs": [],
   "source": [
    "\n",
    "\n"
   ]
  },
  {
   "cell_type": "code",
   "execution_count": null,
   "id": "4a19508e",
   "metadata": {},
   "outputs": [],
   "source": []
  },
  {
   "cell_type": "code",
   "execution_count": null,
   "id": "d2ee61ae",
   "metadata": {},
   "outputs": [],
   "source": []
  },
  {
   "cell_type": "code",
   "execution_count": null,
   "id": "3a75d5f5",
   "metadata": {},
   "outputs": [],
   "source": []
  },
  {
   "cell_type": "code",
   "execution_count": null,
   "id": "66a03242",
   "metadata": {},
   "outputs": [],
   "source": []
  },
  {
   "cell_type": "code",
   "execution_count": null,
   "id": "f5255308",
   "metadata": {},
   "outputs": [],
   "source": []
  },
  {
   "cell_type": "code",
   "execution_count": null,
   "id": "2860d283",
   "metadata": {},
   "outputs": [],
   "source": [
    "\n",
    "\n",
    "\n",
    "\n",
    "\n",
    "\n"
   ]
  },
  {
   "cell_type": "code",
   "execution_count": null,
   "id": "3ff6d527",
   "metadata": {},
   "outputs": [],
   "source": []
  },
  {
   "cell_type": "code",
   "execution_count": null,
   "id": "c4c9c839",
   "metadata": {},
   "outputs": [],
   "source": []
  }
 ],
 "metadata": {
  "kernelspec": {
   "display_name": "Python 3 (ipykernel)",
   "language": "python",
   "name": "python3"
  },
  "language_info": {
   "codemirror_mode": {
    "name": "ipython",
    "version": 3
   },
   "file_extension": ".py",
   "mimetype": "text/x-python",
   "name": "python",
   "nbconvert_exporter": "python",
   "pygments_lexer": "ipython3",
   "version": "3.9.7"
  }
 },
 "nbformat": 4,
 "nbformat_minor": 5
}
