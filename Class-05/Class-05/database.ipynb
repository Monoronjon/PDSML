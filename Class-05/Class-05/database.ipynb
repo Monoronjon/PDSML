{
 "cells": [
  {
   "cell_type": "code",
   "execution_count": 1,
   "id": "b81b31f8",
   "metadata": {},
   "outputs": [
    {
     "name": "stdout",
     "output_type": "stream",
     "text": [
      "<mysql.connector.connection_cext.CMySQLConnection object at 0x0000018B168F2160>\n"
     ]
    }
   ],
   "source": [
    "import mysql.connector as mysql\n",
    "db = mysql.connect(\n",
    "    host = \"localhost\", user = \"root\",password=\"\",\n",
    "\n",
    "\n",
    ")\n",
    "print(db)"
   ]
  },
  {
   "cell_type": "code",
   "execution_count": 2,
   "id": "5ff84c05",
   "metadata": {},
   "outputs": [],
   "source": [
    "db.close()"
   ]
  },
  {
   "cell_type": "code",
   "execution_count": 3,
   "id": "145c3b41",
   "metadata": {},
   "outputs": [],
   "source": [
    "def connect(host=\"localhost\", user=\"root\", password=\"\",db_name=\"\"):\n",
    "    if db_name != \"\":\n",
    "        db = mysql.connect(\n",
    "        host=host, user=user, password=password,database=db_name\n",
    "        )\n",
    "        return db\n",
    "    else:\n",
    "        db = mysql.connect(\n",
    "        host=host, user=user, password=password,\n",
    "        )\n",
    "        return db\n",
    "        "
   ]
  },
  {
   "cell_type": "code",
   "execution_count": 4,
   "id": "f169426f",
   "metadata": {},
   "outputs": [
    {
     "data": {
      "text/plain": [
       "<mysql.connector.connection_cext.CMySQLConnection at 0x18b16b474c0>"
      ]
     },
     "execution_count": 4,
     "metadata": {},
     "output_type": "execute_result"
    }
   ],
   "source": [
    "connect()"
   ]
  },
  {
   "cell_type": "code",
   "execution_count": 5,
   "id": "575c2e7c",
   "metadata": {},
   "outputs": [],
   "source": [
    "def create_database(db_name):\n",
    "    try:\n",
    "        db = connect()\n",
    "        cursor = db.cursor()\n",
    "        query = \"CREATE DATABASE \"+ db_name\n",
    "        cursor.execute(query)\n",
    "        cursor.close()\n",
    "        db.close()\n",
    "    except Exception as e:\n",
    "        print(e)"
   ]
  },
  {
   "cell_type": "code",
   "execution_count": 6,
   "id": "a0e4e3c5",
   "metadata": {},
   "outputs": [
    {
     "name": "stdout",
     "output_type": "stream",
     "text": [
      "1007 (HY000): Can't create database 'employee'; database exists\n"
     ]
    }
   ],
   "source": [
    "create_database(\"employee\")\n"
   ]
  },
  {
   "cell_type": "code",
   "execution_count": null,
   "id": "bf299ca6",
   "metadata": {},
   "outputs": [],
   "source": []
  },
  {
   "cell_type": "code",
   "execution_count": 7,
   "id": "9c759852",
   "metadata": {},
   "outputs": [],
   "source": [
    "def create_table(db_name,table_name):\n",
    "    try:\n",
    "        db = connect(db_name=db_name)\n",
    "        cursor = db.cursor()\n",
    "        query = \"CREATE TABLE \"+ table_name+\"(id integer primary key auto_increment,name varchar(255),dept varchar(255))\"\n",
    "        cursor.execute(query)\n",
    "        cursor.close()\n",
    "        db.close()\n",
    "    except Exception as e:\n",
    "        print(e)\n",
    "\n",
    "\n"
   ]
  },
  {
   "cell_type": "code",
   "execution_count": 8,
   "id": "784b96d0",
   "metadata": {},
   "outputs": [
    {
     "name": "stdout",
     "output_type": "stream",
     "text": [
      "1050 (42S01): Table 'emp_info' already exists\n"
     ]
    }
   ],
   "source": [
    "create_table(\"employee\",\"emp_info\")"
   ]
  },
  {
   "cell_type": "code",
   "execution_count": 13,
   "id": "cb568f2a",
   "metadata": {},
   "outputs": [],
   "source": [
    "#data insert\n",
    "\n",
    "def insert_data(db_name, table_name, name, dept):\n",
    "    try:\n",
    "        db = connect(db_name=db_name)\n",
    "        cursor = db.cursor()\n",
    "        query = \"INSERT INTO \"+ table_name +\"(id , name, dept) VALUES(0, %s, %s)\"\n",
    "        values = (name, dept)\n",
    "        cursor.execute(query, values)\n",
    "        db.commit()\n",
    "        cursor.close()\n",
    "        db.close()\n",
    "    except Exception as e:\n",
    "        print(e)\n",
    "\n",
    "\n"
   ]
  },
  {
   "cell_type": "code",
   "execution_count": 17,
   "id": "196f6665",
   "metadata": {},
   "outputs": [],
   "source": [
    "#data fetch\n",
    "\n",
    "def fetch_data(db_name,table_name):\n",
    "    try:\n",
    "        db = connect(db_name=db_name)\n",
    "        cursor = db.cursor()\n",
    "        query = \"SELECT * FROM \"+ table_name\n",
    "        cursor.execute(query)\n",
    "        res = cursor.fetchall()\n",
    "        for i in res:\n",
    "            print(i)\n",
    "        cursor.close()\n",
    "        db.close()\n",
    "    except Exception as e:\n",
    "        print(e)\n",
    "\n",
    "\n"
   ]
  },
  {
   "cell_type": "code",
   "execution_count": 18,
   "id": "b59f57f7",
   "metadata": {},
   "outputs": [
    {
     "name": "stdout",
     "output_type": "stream",
     "text": [
      "(1, 'Monoronjon', 'CSE')\n",
      "(2, 'Ariful Islam', 'CSE')\n",
      "(3, 'Monoronjon', 'CSE')\n"
     ]
    }
   ],
   "source": [
    "insert_data(\"employee\",\"emp_info\",\"Monoronjon\",\"CSE\")\n",
    "fetch_data(\"employee\",\"emp_info\")"
   ]
  },
  {
   "cell_type": "code",
   "execution_count": 16,
   "id": "4e6d4101",
   "metadata": {},
   "outputs": [
    {
     "name": "stdout",
     "output_type": "stream",
     "text": [
      "(1, 'Monoronjon', 'CSE')\n",
      "(2, 'Ariful Islam', 'CSE')\n"
     ]
    }
   ],
   "source": [
    "insert_data(\"employee\",\"emp_info\",\"Ariful Islam\",\"CSE\")\n",
    "fetch_data(\"employee\",\"emp_info\")"
   ]
  },
  {
   "cell_type": "code",
   "execution_count": null,
   "id": "7d045bdb",
   "metadata": {},
   "outputs": [],
   "source": []
  },
  {
   "cell_type": "code",
   "execution_count": null,
   "id": "2b9270bd",
   "metadata": {},
   "outputs": [],
   "source": []
  },
  {
   "cell_type": "code",
   "execution_count": null,
   "id": "0a671629",
   "metadata": {},
   "outputs": [],
   "source": []
  },
  {
   "cell_type": "code",
   "execution_count": null,
   "id": "688b54fa",
   "metadata": {},
   "outputs": [],
   "source": []
  }
 ],
 "metadata": {
  "kernelspec": {
   "display_name": "Python 3 (ipykernel)",
   "language": "python",
   "name": "python3"
  },
  "language_info": {
   "codemirror_mode": {
    "name": "ipython",
    "version": 3
   },
   "file_extension": ".py",
   "mimetype": "text/x-python",
   "name": "python",
   "nbconvert_exporter": "python",
   "pygments_lexer": "ipython3",
   "version": "3.9.7"
  }
 },
 "nbformat": 4,
 "nbformat_minor": 5
}
